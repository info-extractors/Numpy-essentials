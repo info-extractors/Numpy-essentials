{
 "cells": [
  {
   "cell_type": "code",
   "execution_count": 6,
   "id": "bbde4005-a95a-4b4d-9577-02e8013d6da1",
   "metadata": {},
   "outputs": [],
   "source": [
    "import numpy as np ### importing numpy with alias np "
   ]
  },
  {
   "cell_type": "markdown",
   "id": "00b8663c-3341-4ec0-8ee7-6e3203f3d017",
   "metadata": {},
   "source": [
    "### Generating numpy array from List and Tuple"
   ]
  },
  {
   "cell_type": "code",
   "execution_count": 8,
   "id": "52495d38-de3e-4f29-866f-0c4ed487663f",
   "metadata": {},
   "outputs": [
    {
     "name": "stdout",
     "output_type": "stream",
     "text": [
      "Numpy array: [1 2 3 4 5]\n",
      "Numpy array: int32\n"
     ]
    }
   ],
   "source": [
    "List = [1,2,3,4,5]\n",
    "\n",
    "np_list = np.array(List) ### using list as input\n",
    "\n",
    "print(\"Numpy array:\",np_list)\n",
    "print(\"Data type:\",np_list.dtype)"
   ]
  },
  {
   "cell_type": "code",
   "execution_count": 10,
   "id": "ffb49819-b51d-47c8-bab6-d14b10001d14",
   "metadata": {},
   "outputs": [
    {
     "name": "stdout",
     "output_type": "stream",
     "text": [
      "Numpy array from tuple: [1 2 3 4 5]\n",
      "Data type: int32\n"
     ]
    }
   ],
   "source": [
    "Tuple = (1,2,3,4,5)\n",
    "\n",
    "np_tuple = np.array(Tuple)\n",
    "\n",
    "print(\"Numpy array from tuple:\",np_tuple)\n",
    "print(\"Data type:\",np_tuple.dtype)"
   ]
  },
  {
   "cell_type": "markdown",
   "id": "27cfae29-c891-4ea3-8c19-5f19023943f5",
   "metadata": {},
   "source": [
    "#### Generating numpy array with predefined values"
   ]
  },
  {
   "cell_type": "code",
   "execution_count": 28,
   "id": "15a3ea2f-1dfd-47e6-a089-987b2ba231d7",
   "metadata": {},
   "outputs": [
    {
     "name": "stdout",
     "output_type": "stream",
     "text": [
      "[[1. 1. 1. 1.]\n",
      " [1. 1. 1. 1.]\n",
      " [1. 1. 1. 1.]\n",
      " [1. 1. 1. 1.]]\n",
      "Rows: 4\n",
      "Columns: 4\n"
     ]
    }
   ],
   "source": [
    "rows = 4\n",
    "cols = 4\n",
    "\n",
    "### generating a numpy array with all 1's with given rows and cols\n",
    "all_ones = np.ones((rows,cols))\n",
    "print(all_ones)\n",
    "print(\"Rows:\",all_ones.size // all_ones[0].size)\n",
    "print(\"Columns:\",all_ones[0].size)"
   ]
  },
  {
   "cell_type": "code",
   "execution_count": 32,
   "id": "cf07aecb-ca72-4740-9354-48d062334e55",
   "metadata": {},
   "outputs": [
    {
     "name": "stdout",
     "output_type": "stream",
     "text": [
      "[[0. 0. 0. 0.]\n",
      " [0. 0. 0. 0.]\n",
      " [0. 0. 0. 0.]\n",
      " [0. 0. 0. 0.]]\n",
      "Rows: 4\n",
      "Columns: 4\n"
     ]
    }
   ],
   "source": [
    "### generating a numpy array with all 0's with given rows and cols\n",
    "all_zeros = np.zeros((rows,cols))\n",
    "print(all_zeros)\n",
    "print(\"Rows:\",all_zeros.size // all_zeros[0].size)\n",
    "print(\"Columns:\",all_zeros[0].size)"
   ]
  },
  {
   "cell_type": "code",
   "execution_count": 40,
   "id": "c3c0bafa-7d11-4471-a77e-783896976328",
   "metadata": {},
   "outputs": [
    {
     "name": "stdout",
     "output_type": "stream",
     "text": [
      "[[3 3 3 3]\n",
      " [3 3 3 3]\n",
      " [3 3 3 3]\n",
      " [3 3 3 3]]\n"
     ]
    }
   ],
   "source": [
    "predefinedValue = 3\n",
    "all_with_val = np.full((rows,cols),predefinedValue)\n",
    "\n",
    "print(all_with_val)"
   ]
  },
  {
   "cell_type": "code",
   "execution_count": 48,
   "id": "ac670d81-3b49-42ce-b04b-a33c55c6b2ab",
   "metadata": {},
   "outputs": [
    {
     "name": "stdout",
     "output_type": "stream",
     "text": [
      "[[1. 0. 0.]\n",
      " [0. 1. 0.]\n",
      " [0. 0. 1.]]\n"
     ]
    }
   ],
   "source": [
    "### Generating the indentity matrix using np.eye()\n",
    "indentity_matrix = np.eye(3,3)\n",
    "print(indentity_matrix)"
   ]
  },
  {
   "cell_type": "code",
   "execution_count": 56,
   "id": "00bc48d1-a2d6-40c7-8161-b1a9be7483cf",
   "metadata": {},
   "outputs": [
    {
     "name": "stdout",
     "output_type": "stream",
     "text": [
      "[ 1.    3.25  5.5   7.75 10.  ]\n"
     ]
    }
   ],
   "source": [
    "### Generating array in a given range with specific quantity \n",
    "in_range_array = np.linspace(1,10,num = 5)\n",
    "print(in_range_array)"
   ]
  },
  {
   "cell_type": "code",
   "execution_count": 58,
   "id": "df0c9dea-3fe4-4133-b2da-c3a1409bfbd8",
   "metadata": {},
   "outputs": [
    {
     "name": "stdout",
     "output_type": "stream",
     "text": [
      "[1 4 7]\n"
     ]
    }
   ],
   "source": [
    "### Generating array in a given range with specific gaps \n",
    "arange_array = np.arange(1,10,3)\n",
    "print(arange_array)"
   ]
  },
  {
   "cell_type": "markdown",
   "id": "f72c34ae-c719-445c-8a73-2fa6571a2ff9",
   "metadata": {},
   "source": [
    "### Random Number Generation"
   ]
  },
  {
   "cell_type": "code",
   "execution_count": 61,
   "id": "e3d0fb81-5716-4e00-ac2e-bea078152415",
   "metadata": {},
   "outputs": [
    {
     "name": "stdout",
     "output_type": "stream",
     "text": [
      "[[0.951907   0.12389071 0.28106607]\n",
      " [0.70322112 0.5237464  0.17991817]\n",
      " [0.34198332 0.17423341 0.52709101]]\n"
     ]
    }
   ],
   "source": [
    "### generating matrix with all random numbers with uniform distribution\n",
    "random_number_matrix = np.random.rand(3,3)\n",
    "print(random_number_matrix)"
   ]
  },
  {
   "cell_type": "code",
   "execution_count": 63,
   "id": "e1d00232-1893-4d06-96d1-d4d9214a84ee",
   "metadata": {},
   "outputs": [
    {
     "name": "stdout",
     "output_type": "stream",
     "text": [
      "[[-0.92424481  0.84311361 -0.00415809]\n",
      " [-1.312599    1.69855672  0.06107301]\n",
      " [ 0.41131722  0.95401803  0.86242262]]\n"
     ]
    }
   ],
   "source": [
    "### generating matrix with all random numbers but with normal distribution \n",
    "normal_random_matrix = np.random.randn(3,3)\n",
    "print(normal_random_matrix)"
   ]
  },
  {
   "cell_type": "code",
   "execution_count": 69,
   "id": "e034bdfe-08e4-41b6-8d2e-220e7df609e7",
   "metadata": {},
   "outputs": [
    {
     "name": "stdout",
     "output_type": "stream",
     "text": [
      "[[29 18 15]\n",
      " [38 13 10]\n",
      " [30 27 20]]\n"
     ]
    }
   ],
   "source": [
    "### generating matrix with random number within a given range \n",
    "random_in_range = np.random.randint(10,50,(3,3))\n",
    "print(random_in_range)"
   ]
  },
  {
   "cell_type": "code",
   "execution_count": 71,
   "id": "a2482664-34fe-4083-bdfc-9169503ee962",
   "metadata": {},
   "outputs": [
    {
     "name": "stdout",
     "output_type": "stream",
     "text": [
      "[ 2  3 10  3]\n"
     ]
    }
   ],
   "source": [
    "### choosing random numbers from a list \n",
    "random_choice = np.random.choice([10,2,3,5],size = 4)\n",
    "print(random_choice)"
   ]
  },
  {
   "cell_type": "markdown",
   "id": "0fff6aaa-2605-484e-a5bb-82b397d9bea0",
   "metadata": {},
   "source": [
    "### Array manipulation"
   ]
  },
  {
   "cell_type": "code",
   "execution_count": 95,
   "id": "2f2ec8ac-e90b-4c14-8f0c-604b67399804",
   "metadata": {},
   "outputs": [],
   "source": [
    "### manipulating the array \n",
    "arr = np.array([1,2,3,4,5,6,7,8,9,10,11,12])"
   ]
  },
  {
   "cell_type": "code",
   "execution_count": 86,
   "id": "f5cd3f95-dc98-4dac-af15-83829236090c",
   "metadata": {},
   "outputs": [
    {
     "name": "stdout",
     "output_type": "stream",
     "text": [
      "[[ 1  2  3  4]\n",
      " [ 5  6  7  8]\n",
      " [ 9 10 11 12]]\n",
      "Rows: 3\n",
      "Cols: 4\n"
     ]
    }
   ],
   "source": [
    "### reshaping the array\n",
    "reshaped_array = arr.reshape(3,4)\n",
    "print(reshaped_array)\n",
    "print(\"Rows:\",reshaped_array.size // reshaped_array[0].size)\n",
    "print(\"Cols:\",reshaped_array[0].size)"
   ]
  },
  {
   "cell_type": "code",
   "execution_count": 105,
   "id": "a6c9d178-1f6a-4f30-825a-5436a5d4e45b",
   "metadata": {},
   "outputs": [
    {
     "name": "stdout",
     "output_type": "stream",
     "text": [
      "[[ 1  5  9]\n",
      " [ 2  6 10]\n",
      " [ 3  7 11]\n",
      " [ 4  8 12]]\n",
      "Rows: 3\n",
      "Cols: 4\n"
     ]
    }
   ],
   "source": [
    "### transpose function \n",
    "transposed_array = reshaped_array.transpose()\n",
    "print(transposed_array)\n",
    "print(\"Rows:\",reshaped_array.size // reshaped_array[0].size)\n",
    "print(\"Cols:\",reshaped_array[0].size)"
   ]
  },
  {
   "cell_type": "code",
   "execution_count": 121,
   "id": "f5647981-9330-4658-b4da-8f0d0e50e7a5",
   "metadata": {},
   "outputs": [
    {
     "name": "stdout",
     "output_type": "stream",
     "text": [
      "[ 3  4  5  6 10 11 12]\n"
     ]
    }
   ],
   "source": [
    "### concatenating two numpy arrays \n",
    "arr1 = np.array([3,4,5,6])\n",
    "arr2 = np.array([10,11,12])\n",
    "\n",
    "concatenated_array = np.concatenate([arr1,arr2])\n",
    "### co\n",
    "print(concatenated_array)"
   ]
  },
  {
   "cell_type": "markdown",
   "id": "bca08f12-a58d-43b2-953c-6dbe2121430b",
   "metadata": {},
   "source": [
    "### Mathematic functions using numpy array"
   ]
  },
  {
   "cell_type": "code",
   "execution_count": 126,
   "id": "d474644c-b23b-4c22-beb6-4dcd08eaff32",
   "metadata": {},
   "outputs": [
    {
     "name": "stdout",
     "output_type": "stream",
     "text": [
      "[91 59 85 20 70  8 68 21 23 79 24 18]\n"
     ]
    }
   ],
   "source": [
    "sample_array = np.random.randint(0,100,12)"
   ]
  },
  {
   "cell_type": "code",
   "execution_count": 128,
   "id": "cd5e99b2-0c88-423f-ae53-a465b9e21c06",
   "metadata": {},
   "outputs": [
    {
     "name": "stdout",
     "output_type": "stream",
     "text": [
      "47.166666666666664\n"
     ]
    }
   ],
   "source": [
    "### mean of all arrays \n",
    "print(np.mean(sample_array))"
   ]
  },
  {
   "cell_type": "code",
   "execution_count": 130,
   "id": "af07f9e9-0c53-41c6-8100-80d763588bcc",
   "metadata": {},
   "outputs": [
    {
     "name": "stdout",
     "output_type": "stream",
     "text": [
      "41.5\n"
     ]
    }
   ],
   "source": [
    "### median of all arrays \n",
    "print(np.median(sample_array))"
   ]
  },
  {
   "cell_type": "code",
   "execution_count": 136,
   "id": "c1973f97-9356-451c-a57a-da78cc4dd9e9",
   "metadata": {},
   "outputs": [
    {
     "name": "stdout",
     "output_type": "stream",
     "text": [
      "29.424574008055846\n"
     ]
    }
   ],
   "source": [
    "### standard deviation of elements in given array arrays \n",
    "print(np.std(sample_array))"
   ]
  },
  {
   "cell_type": "code",
   "execution_count": 138,
   "id": "24b1d425-859b-4e2f-941c-e48907996541",
   "metadata": {},
   "outputs": [
    {
     "name": "stdout",
     "output_type": "stream",
     "text": [
      "Minimum elements: 8\n",
      "Maximum elements: 91\n"
     ]
    }
   ],
   "source": [
    "### min and max of elements \n",
    "print(\"Minimum elements:\",np.min(sample_array))\n",
    "print(\"Maximum elements:\",np.max(sample_array))"
   ]
  },
  {
   "cell_type": "code",
   "execution_count": 140,
   "id": "4e14ce03-5a79-4577-bc1d-85cbdc721baf",
   "metadata": {},
   "outputs": [
    {
     "name": "stdout",
     "output_type": "stream",
     "text": [
      "Sum of all elements: 566\n"
     ]
    }
   ],
   "source": [
    "### Find the sum of all elements \n",
    "print(\"Sum of all elements:\",np.sum(sample_array))"
   ]
  },
  {
   "cell_type": "code",
   "execution_count": 142,
   "id": "f3275e0e-91a8-47bd-9aaa-4cbba4dc21e8",
   "metadata": {},
   "outputs": [
    {
     "name": "stdout",
     "output_type": "stream",
     "text": [
      "Sum of all elements: 183160832\n"
     ]
    }
   ],
   "source": [
    "### Find the product of all elements \n",
    "print(\"Sum of all elements:\",np.prod(sample_array))"
   ]
  },
  {
   "cell_type": "code",
   "execution_count": 146,
   "id": "495f1934-44b1-4e6f-a214-d109ea89da46",
   "metadata": {},
   "outputs": [
    {
     "name": "stdout",
     "output_type": "stream",
     "text": [
      "Cumulatative sum of all elements [ 91 150 235 255 325 333 401 422 445 524 548 566]\n",
      "Cumulative product of all elements: [         91        5369      456365     9127300   638911000   816320704\n",
      "  -324766976  1769828096  2051340544 -1152854272 -1898698752   183160832]\n"
     ]
    }
   ],
   "source": [
    "### finding cumulative sum and product of all elements \n",
    "print(\"Cumulatative sum of all elements\",np.cumsum(sample_array))\n",
    "print(\"Cumulative product of all elements:\",np.cumprod(sample_array))"
   ]
  },
  {
   "cell_type": "markdown",
   "id": "dd5b207d-9726-470e-954c-e9b0eafa3540",
   "metadata": {},
   "source": [
    "### Linear Alzebra using Numpy"
   ]
  },
  {
   "cell_type": "code",
   "execution_count": 159,
   "id": "a0c54d48-2458-498b-b1d0-0138258cf2bf",
   "metadata": {},
   "outputs": [
    {
     "name": "stdout",
     "output_type": "stream",
     "text": [
      "Matrix 1:\n",
      "[[ 1  2  3]\n",
      " [ 4  3  5]\n",
      " [29 13 49]]\n",
      "\n",
      "Matrix 2:\n",
      "[[ 32 322   3]\n",
      " [ 32  13  13]\n",
      " [443 433  22]]\n"
     ]
    }
   ],
   "source": [
    "matrix1 = np.array([[1,2,3],[4,3,5],[29,13,49]])\n",
    "matrix2 = np.array([[32,322,3],[32,13,13],[443,433,22]])\n",
    "\n",
    "print(\"Matrix 1:\")\n",
    "print(matrix1,end = '\\n\\n')\n",
    "\n",
    "print(\"Matrix 2:\")\n",
    "print(matrix2)"
   ]
  },
  {
   "cell_type": "code",
   "execution_count": 165,
   "id": "fb96cd26-afbf-4330-9777-83dc20b5c922",
   "metadata": {},
   "outputs": [
    {
     "name": "stdout",
     "output_type": "stream",
     "text": [
      "[[ 1425  1647    95]\n",
      " [ 2439  3492   161]\n",
      " [23051 30724  1334]]\n"
     ]
    }
   ],
   "source": [
    "### dot product\n",
    "dot_product = np.dot(matrix1,matrix2)\n",
    "print(dot_product)"
   ]
  },
  {
   "cell_type": "code",
   "execution_count": 169,
   "id": "dc9fabba-62bc-48a8-a00d-33779a6e5529",
   "metadata": {},
   "outputs": [
    {
     "name": "stdout",
     "output_type": "stream",
     "text": [
      "[[ 1425  1647    95]\n",
      " [ 2439  3492   161]\n",
      " [23051 30724  1334]]\n"
     ]
    }
   ],
   "source": [
    "### matrix multiplication \n",
    "matrix_mul = np.matmul(matrix1,matrix2)\n",
    "print(matrix_mul)"
   ]
  },
  {
   "cell_type": "code",
   "execution_count": 187,
   "id": "577a5286-ff9b-4608-b40b-522c26c10131",
   "metadata": {},
   "outputs": [
    {
     "name": "stdout",
     "output_type": "stream",
     "text": [
      "Inverse of matrix:\n",
      "[[ 1.55695414e-03 -3.89828396e-03  3.59605003e-04]\n",
      " [-2.47172060e-03  1.56051383e-03 -1.23157948e-05]\n",
      " [ 3.00238335e-02  3.14198774e-02 -5.18055806e-03]]\n",
      "\n",
      "Identity matrix:\n",
      "[[ 1.00000000e+00  2.42861287e-16  6.41847686e-17]\n",
      " [-1.56125113e-16  1.00000000e+00  1.57859836e-16]\n",
      " [ 2.28983499e-16  6.52256027e-16  1.00000000e+00]]\n"
     ]
    }
   ],
   "source": [
    "### inversion of given matrix \n",
    "inverse_mat = np.linalg.inv(matrix_mul)\n",
    "print(\"Inverse of matrix:\")\n",
    "print(inverse_mat,end = '\\n\\n')\n",
    "\n",
    "###  verfiying the inversion of matrix\n",
    "print(\"Identity matrix:\")\n",
    "print(matrix_mul @ inverse_mat)"
   ]
  },
  {
   "cell_type": "code",
   "execution_count": 189,
   "id": "9c7ee85a-e743-4013-891e-6f148f7e809f",
   "metadata": {},
   "outputs": [
    {
     "name": "stdout",
     "output_type": "stream",
     "text": [
      "-185128125.0\n"
     ]
    }
   ],
   "source": [
    "### Determinant of a matrix \n",
    "print(np.linalg.det(matrix_mul))"
   ]
  },
  {
   "cell_type": "code",
   "execution_count": 203,
   "id": "1042df06-108f-4b32-9b90-cfae87129337",
   "metadata": {},
   "outputs": [
    {
     "name": "stdout",
     "output_type": "stream",
     "text": [
      "[3. 3. 1.]\n"
     ]
    }
   ],
   "source": [
    "### Solving set of linear equation using numpy \n",
    "\n",
    "# Linear equation:\n",
    "   # 2 * x + 3 * y + 3 * z = 18\n",
    "   #     x +     y +     z = 7\n",
    "   # 2 * x + 4 * y +     z = 19\n",
    "### expected solution : x = 3,y = 3,z = 1\n",
    "\n",
    "coef = np.array([[2,3,3],[1,1,1],[2,4,1]])\n",
    "sol  = np.array([18,7,19])\n",
    "\n",
    "### result \n",
    "print(np.linalg.solve(coef,sol))"
   ]
  },
  {
   "cell_type": "code",
   "execution_count": null,
   "id": "6f1713dc-a914-4a54-b422-8741c4c7ceb9",
   "metadata": {},
   "outputs": [],
   "source": []
  }
 ],
 "metadata": {
  "kernelspec": {
   "display_name": "Python 3 (ipykernel)",
   "language": "python",
   "name": "python3"
  },
  "language_info": {
   "codemirror_mode": {
    "name": "ipython",
    "version": 3
   },
   "file_extension": ".py",
   "mimetype": "text/x-python",
   "name": "python",
   "nbconvert_exporter": "python",
   "pygments_lexer": "ipython3",
   "version": "3.12.3"
  }
 },
 "nbformat": 4,
 "nbformat_minor": 5
}
